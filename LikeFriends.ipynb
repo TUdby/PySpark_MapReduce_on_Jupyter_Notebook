{
 "cells": [
  {
   "cell_type": "markdown",
   "id": "2cb6a8c7",
   "metadata": {},
   "source": [
    "# Common Friends MapReduce PySpark"
   ]
  },
  {
   "cell_type": "code",
   "execution_count": 1,
   "id": "a1270f98",
   "metadata": {},
   "outputs": [],
   "source": [
    "import pyspark\n",
    "from pyspark.sql import *\n",
    "from pyspark import SparkContext, SparkConf"
   ]
  },
  {
   "cell_type": "code",
   "execution_count": 2,
   "id": "c7492490",
   "metadata": {},
   "outputs": [],
   "source": [
    "sc = SparkSession.builder.getOrCreate().sparkContext"
   ]
  },
  {
   "cell_type": "markdown",
   "id": "3093959e",
   "metadata": {},
   "source": [
    "Below is the data that we parallelize into a resiliant distributed dataset. Each letter represents a person. The letter on the left of each tuple is the person the tuple is assigned to, the list on the right is their list of friends. The goal of the MapReduce is to find the the common friends between each pair of individuals."
   ]
  },
  {
   "cell_type": "code",
   "execution_count": 3,
   "id": "b5f94a58",
   "metadata": {},
   "outputs": [],
   "source": [
    "rdd = sc.parallelize([ \n",
    "  (\"A\", [\"B\", \"C\", \"D\"]),\n",
    "  (\"B\", [\"A\", \"C\", \"D\", \"E\"]),\n",
    "  (\"C\", [\"A\", \"B\", \"D\", \"E\"]),\n",
    "  (\"D\", [\"A\", \"B\", \"C\", \"E\"]),\n",
    "  (\"E\", [\"B\", \"C\", \"D\"])\n",
    "])"
   ]
  },
  {
   "cell_type": "markdown",
   "id": "db0df5a4",
   "metadata": {},
   "source": [
    "These are the custom map and reduce functions. The map takes in one of the tuples in the list aboe and returns a list of tuples where the person is is paired with each of their friends as the key and their list of friends is emitted as the value. For example:\n",
    "\n",
    "The tuple <br>\n",
    "B -> A C D E\n",
    "\n",
    "is mapped the the following key value pairs <br>\n",
    "A B -> A C D E <br>\n",
    "B C -> A C D E <br>\n",
    "B D -> A C D E <br>\n",
    "B E -> A C D E\n",
    "\n",
    "*_notice that the key is put in alphabetical order, that way it can be sent to the same reducer task as another pair with the same people in its key._\n",
    "\n",
    "The reduce function is given a tuple with a key that holds two people and a list of two lists which holds each of their friends. The recucer returns the individuals with the intersect of their two friends lists (which is their common friends). For example:\n",
    "\n",
    "The shuffled input into a reducer might be <br>\n",
    "A B -> [B C D] [A C D E]\n",
    "\n",
    "which is reduced to <br>\n",
    "A B -> C D"
   ]
  },
  {
   "cell_type": "code",
   "execution_count": 4,
   "id": "375ac1d0",
   "metadata": {},
   "outputs": [],
   "source": [
    "def friends_map(x):\n",
    "  seq = []\n",
    "  for i in x[1] :\n",
    "    if i < x[0]:\n",
    "      seq.append( ((i, x[0]) , x[1]) )\n",
    "    else:\n",
    "      seq.append( ((x[0], i) , x[1]) )\n",
    "  return seq\n",
    "\n",
    "\n",
    "def friends_reduce(x, y):\n",
    "    return [a for a in x if a in y]\n"
   ]
  },
  {
   "cell_type": "markdown",
   "id": "f67ded3e",
   "metadata": {},
   "source": [
    "Finally we use the spark api to pass our Map and Reduce functions into the flatmap and reduceByKey functions, then sort and collect the output."
   ]
  },
  {
   "cell_type": "code",
   "execution_count": 5,
   "id": "82532cb0",
   "metadata": {},
   "outputs": [
    {
     "data": {
      "text/plain": [
       "[(('A', 'B'), ['C', 'D']),\n",
       " (('A', 'C'), ['B', 'D']),\n",
       " (('A', 'D'), ['B', 'C']),\n",
       " (('B', 'C'), ['A', 'D', 'E']),\n",
       " (('B', 'D'), ['A', 'C', 'E']),\n",
       " (('B', 'E'), ['C', 'D']),\n",
       " (('C', 'D'), ['A', 'B', 'E']),\n",
       " (('C', 'E'), ['B', 'D']),\n",
       " (('D', 'E'), ['B', 'C'])]"
      ]
     },
     "execution_count": 5,
     "metadata": {},
     "output_type": "execute_result"
    }
   ],
   "source": [
    "similar_friends = rdd.flatMap(friends_map) \\\n",
    "             .reduceByKey(friends_reduce) \\\n",
    "             .sortByKey()\n",
    "             \n",
    "similar_friends.collect()"
   ]
  }
 ],
 "metadata": {
  "kernelspec": {
   "display_name": "Python 3 (ipykernel)",
   "language": "python",
   "name": "python3"
  },
  "language_info": {
   "codemirror_mode": {
    "name": "ipython",
    "version": 3
   },
   "file_extension": ".py",
   "mimetype": "text/x-python",
   "name": "python",
   "nbconvert_exporter": "python",
   "pygments_lexer": "ipython3",
   "version": "3.9.10"
  }
 },
 "nbformat": 4,
 "nbformat_minor": 5
}
