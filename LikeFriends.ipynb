{
 "cells": [
  {
   "cell_type": "code",
   "execution_count": 1,
   "id": "a1270f98",
   "metadata": {},
   "outputs": [],
   "source": [
    "import pyspark\n",
    "from pyspark.sql import *\n",
    "from pyspark import SparkContext, SparkConf"
   ]
  },
  {
   "cell_type": "code",
   "execution_count": 3,
   "id": "c7492490",
   "metadata": {},
   "outputs": [],
   "source": [
    "sc = SparkSession.builder.getOrCreate().sparkContext"
   ]
  },
  {
   "cell_type": "code",
   "execution_count": 4,
   "id": "b5f94a58",
   "metadata": {},
   "outputs": [],
   "source": [
    "rdd = sc.parallelize([ \n",
    "  (\"A\", [\"B\", \"C\", \"D\"]),\n",
    "  (\"B\", [\"A\", \"C\", \"D\", \"E\"]),\n",
    "  (\"C\", [\"A\", \"B\", \"D\", \"E\"]),\n",
    "  (\"D\", [\"A\", \"B\", \"C\", \"E\"]),\n",
    "  (\"E\", [\"B\", \"C\", \"D\"])\n",
    "])"
   ]
  },
  {
   "cell_type": "code",
   "execution_count": 5,
   "id": "375ac1d0",
   "metadata": {},
   "outputs": [],
   "source": [
    "def friends_map(x):\n",
    "  seq = []\n",
    "  for i in x[1] :\n",
    "    if i < x[0]:\n",
    "      seq.append( ((i, x[0]) , x[1]) )\n",
    "    else:\n",
    "      seq.append( ((x[0], i) , x[1]) )\n",
    "  return seq\n",
    "\n",
    "\n",
    "def friends_reduce(x, y):\n",
    "    return [a for a in x if a in y]\n"
   ]
  },
  {
   "cell_type": "code",
   "execution_count": 6,
   "id": "82532cb0",
   "metadata": {},
   "outputs": [
    {
     "data": {
      "text/plain": [
       "[(('A', 'B'), ['C', 'D']),\n",
       " (('A', 'C'), ['B', 'D']),\n",
       " (('A', 'D'), ['B', 'C']),\n",
       " (('B', 'C'), ['A', 'D', 'E']),\n",
       " (('B', 'D'), ['A', 'C', 'E']),\n",
       " (('B', 'E'), ['C', 'D']),\n",
       " (('C', 'D'), ['A', 'B', 'E']),\n",
       " (('C', 'E'), ['B', 'D']),\n",
       " (('D', 'E'), ['B', 'C'])]"
      ]
     },
     "execution_count": 6,
     "metadata": {},
     "output_type": "execute_result"
    }
   ],
   "source": [
    "similar_friends = rdd.flatMap(friends_map) \\\n",
    "             .reduceByKey(friends_reduce) \\\n",
    "             .sortByKey()\n",
    "             \n",
    "similar_friends.collect()"
   ]
  }
 ],
 "metadata": {
  "kernelspec": {
   "display_name": "Python 3 (ipykernel)",
   "language": "python",
   "name": "python3"
  },
  "language_info": {
   "codemirror_mode": {
    "name": "ipython",
    "version": 3
   },
   "file_extension": ".py",
   "mimetype": "text/x-python",
   "name": "python",
   "nbconvert_exporter": "python",
   "pygments_lexer": "ipython3",
   "version": "3.9.10"
  }
 },
 "nbformat": 4,
 "nbformat_minor": 5
}
